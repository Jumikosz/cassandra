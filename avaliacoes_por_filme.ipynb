{
 "cells": [
  {
   "cell_type": "markdown",
   "source": [
    "Trabalho de Pós Graduação - Engenharia de Dados | Cassandra - Parte 01\n",
    "\n",
    "A necessidade desse trabalho é entender quais as notas de avaliação de cada filme da lista, para isso utilizaremos dois datasets: \n",
    "Netflix_Dataset_Movie - Possui os registros dos filmes\n",
    "Netflix_Dataset_Rating - Possui os registros de avaliações dos filmes\n",
    "\n",
    "Para criar a tabela no Cassandra vamos unir esses datasets e criaremos um novo, que contém todas as informações, chamado \"avaliações por filme\"."
   ],
   "metadata": {
    "collapsed": false
   },
   "id": "19af301d16ae5ab0"
  },
  {
   "cell_type": "markdown",
   "source": [
    "Importação dos pacotes necessários:"
   ],
   "metadata": {
    "collapsed": false
   },
   "id": "54ea43616121e67b"
  },
  {
   "cell_type": "code",
   "execution_count": 12,
   "id": "initial_id",
   "metadata": {
    "collapsed": true,
    "ExecuteTime": {
     "end_time": "2023-12-17T23:36:25.093260Z",
     "start_time": "2023-12-17T23:36:25.079258200Z"
    }
   },
   "outputs": [],
   "source": [
    "import csv\n",
    "import pandas as pd"
   ]
  },
  {
   "cell_type": "markdown",
   "source": [
    "Leitura dos arquivos .csv:"
   ],
   "metadata": {
    "collapsed": false
   },
   "id": "d2cb5c05a55912e8"
  },
  {
   "cell_type": "code",
   "execution_count": 5,
   "outputs": [],
   "source": [
    "filmes = pd.read_csv(\"./Dataset Netflix/Netflix_Dataset_Movie.csv\")"
   ],
   "metadata": {
    "collapsed": false,
    "ExecuteTime": {
     "end_time": "2023-12-17T23:25:39.190840200Z",
     "start_time": "2023-12-17T23:25:39.152299500Z"
    }
   },
   "id": "60402976ffddb0f3"
  },
  {
   "cell_type": "code",
   "execution_count": 6,
   "outputs": [],
   "source": [
    "avaliacoes = pd.read_csv(\"./Dataset Netflix/Netflix_Dataset_Rating.csv\")"
   ],
   "metadata": {
    "collapsed": false,
    "ExecuteTime": {
     "end_time": "2023-12-17T23:25:46.562116700Z",
     "start_time": "2023-12-17T23:25:41.534764800Z"
    }
   },
   "id": "45e00efa2f1bfcce"
  },
  {
   "cell_type": "markdown",
   "source": [
    "Merge entre os CSVs filmes e avaliacoes:"
   ],
   "metadata": {
    "collapsed": false
   },
   "id": "3f9be52367f00ded"
  },
  {
   "cell_type": "code",
   "execution_count": 7,
   "outputs": [],
   "source": [
    "avaliacoes_por_filme = pd.merge(avaliacoes, filmes, on='Movie_ID')\n",
    "avaliacoes_por_filme = avaliacoes_por_filme.drop('Year', axis=1)"
   ],
   "metadata": {
    "collapsed": false,
    "ExecuteTime": {
     "end_time": "2023-12-17T23:26:43.383818500Z",
     "start_time": "2023-12-17T23:26:32.830955300Z"
    }
   },
   "id": "e0b7dceff4e95080"
  },
  {
   "cell_type": "code",
   "execution_count": 8,
   "outputs": [
    {
     "data": {
      "text/plain": "   User_ID  Rating  Movie_ID       Name\n0   712664       5         3  Character\n1  1331154       4         3  Character\n2  2632461       3         3  Character\n3    44937       5         3  Character\n4   656399       4         3  Character",
      "text/html": "<div>\n<style scoped>\n    .dataframe tbody tr th:only-of-type {\n        vertical-align: middle;\n    }\n\n    .dataframe tbody tr th {\n        vertical-align: top;\n    }\n\n    .dataframe thead th {\n        text-align: right;\n    }\n</style>\n<table border=\"1\" class=\"dataframe\">\n  <thead>\n    <tr style=\"text-align: right;\">\n      <th></th>\n      <th>User_ID</th>\n      <th>Rating</th>\n      <th>Movie_ID</th>\n      <th>Name</th>\n    </tr>\n  </thead>\n  <tbody>\n    <tr>\n      <th>0</th>\n      <td>712664</td>\n      <td>5</td>\n      <td>3</td>\n      <td>Character</td>\n    </tr>\n    <tr>\n      <th>1</th>\n      <td>1331154</td>\n      <td>4</td>\n      <td>3</td>\n      <td>Character</td>\n    </tr>\n    <tr>\n      <th>2</th>\n      <td>2632461</td>\n      <td>3</td>\n      <td>3</td>\n      <td>Character</td>\n    </tr>\n    <tr>\n      <th>3</th>\n      <td>44937</td>\n      <td>5</td>\n      <td>3</td>\n      <td>Character</td>\n    </tr>\n    <tr>\n      <th>4</th>\n      <td>656399</td>\n      <td>4</td>\n      <td>3</td>\n      <td>Character</td>\n    </tr>\n  </tbody>\n</table>\n</div>"
     },
     "execution_count": 8,
     "metadata": {},
     "output_type": "execute_result"
    }
   ],
   "source": [
    "avaliacoes_por_filme.head()"
   ],
   "metadata": {
    "collapsed": false,
    "ExecuteTime": {
     "end_time": "2023-12-17T23:29:46.227249700Z",
     "start_time": "2023-12-17T23:29:44.139878300Z"
    }
   },
   "id": "d3e38bf2a26e4630"
  },
  {
   "cell_type": "markdown",
   "source": [
    "Ordenação das colunas:"
   ],
   "metadata": {
    "collapsed": false
   },
   "id": "a34cda27e49ff923"
  },
  {
   "cell_type": "code",
   "execution_count": 9,
   "outputs": [],
   "source": [
    "df = avaliacoes_por_filme[['Movie_ID', 'User_ID', 'Name', 'Rating']]"
   ],
   "metadata": {
    "collapsed": false,
    "ExecuteTime": {
     "end_time": "2023-12-17T23:30:15.186789500Z",
     "start_time": "2023-12-17T23:30:13.441044500Z"
    }
   },
   "id": "211271b3db26c071"
  },
  {
   "cell_type": "markdown",
   "source": [
    "Arquivo CSV para ser carregado no banco Cassandra:"
   ],
   "metadata": {
    "collapsed": false
   },
   "id": "2cc591f9de30373a"
  },
  {
   "cell_type": "code",
   "execution_count": 11,
   "outputs": [],
   "source": [
    "df.to_csv('./avaliacoes_por_filmes.csv', index=False)"
   ],
   "metadata": {
    "collapsed": false,
    "ExecuteTime": {
     "end_time": "2023-12-17T23:31:11.460112800Z",
     "start_time": "2023-12-17T23:30:26.824661200Z"
    }
   },
   "id": "c71391225d12cf2e"
  },
  {
   "cell_type": "markdown",
   "source": [],
   "metadata": {
    "collapsed": false
   },
   "id": "8181d00e22e6be71"
  }
 ],
 "metadata": {
  "kernelspec": {
   "display_name": "Python 3",
   "language": "python",
   "name": "python3"
  },
  "language_info": {
   "codemirror_mode": {
    "name": "ipython",
    "version": 2
   },
   "file_extension": ".py",
   "mimetype": "text/x-python",
   "name": "python",
   "nbconvert_exporter": "python",
   "pygments_lexer": "ipython2",
   "version": "2.7.6"
  }
 },
 "nbformat": 4,
 "nbformat_minor": 5
}
